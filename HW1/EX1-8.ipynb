{
 "cells": [
  {
   "cell_type": "code",
   "execution_count": 4,
   "metadata": {
    "ExecuteTime": {
     "end_time": "2023-10-06T09:42:41.008281Z",
     "start_time": "2023-10-06T09:42:40.998286100Z"
    }
   },
   "outputs": [],
   "source": [
    "# 从 \"netlist.2\"中读取文件，并转化为matrix\n",
    "def generate_connectivity_matrix(netlist_file):\n",
    "    netlist = []\n",
    "    \n",
    "    # 打开文件以 ','分割，获得所有的节点，并删除两侧空格和括号\n",
    "    with open(netlist_file, 'r') as file:\n",
    "        for line in file:\n",
    "            line = line.strip()\n",
    "            line = line.strip(\")\")\n",
    "            line = line.strip(\"(\")\n",
    "            if line:\n",
    "                elements = line.split(',')\n",
    "                netlist.append((elements[0].strip(), elements[1].strip()))\n",
    "    \n",
    "    # 使用set记录节点名称，保证不会重复\n",
    "    element_names = set()\n",
    "    for connection in netlist:\n",
    "        element_names.add(connection[0])\n",
    "        element_names.add(connection[1])\n",
    "\n",
    "    # 对节点名称进行重排\n",
    "    element_names = sorted(list(element_names))\n",
    "    \n",
    "    # 枚举所有节点并将其映射到数字上，并用节点名获得其数字（字典）\n",
    "    element_to_int = {}\n",
    "    for idx, element in enumerate(element_names):\n",
    "        element_to_int.update({element: idx})\n",
    "\n",
    "    # 创建空矩阵\n",
    "    matrix_size = len(element_names)\n",
    "    connectivity_matrix = [[0 for _ in range(matrix_size)] for _ in range(matrix_size)]\n",
    "\n",
    "    # 遍历所有网表\n",
    "    for connection in netlist:\n",
    "        i = element_to_int[connection[0]]\n",
    "        j = element_to_int[connection[1]]\n",
    "        connectivity_matrix[i][j] += 1\n",
    "        connectivity_matrix[j][i] += 1\n",
    "    \n",
    "    return element_names, connectivity_matrix"
   ]
  },
  {
   "cell_type": "code",
   "execution_count": 2,
   "metadata": {
    "ExecuteTime": {
     "end_time": "2023-10-06T09:41:40.320024800Z",
     "start_time": "2023-10-06T09:41:40.310051200Z"
    }
   },
   "outputs": [],
   "source": [
    "# 将 matrix 写入cmat文件\n",
    "def write_connectivity_matrix_to_file(element_names, connectivity_matrix, output_file):\n",
    "    with open(output_file, 'w') as file:\n",
    "        # 第一行为所有节点名\n",
    "        file.write(','.join(element_names) + '\\n')\n",
    "        for row in connectivity_matrix:\n",
    "            file.write(','.join(map(str, row)) + '\\n')"
   ]
  },
  {
   "cell_type": "markdown",
   "source": [],
   "metadata": {
    "collapsed": false
   }
  },
  {
   "cell_type": "code",
   "execution_count": 7,
   "metadata": {
    "ExecuteTime": {
     "end_time": "2023-10-06T09:43:17.299879800Z",
     "start_time": "2023-10-06T09:43:17.287574Z"
    }
   },
   "outputs": [
    {
     "name": "stdout",
     "output_type": "stream",
     "text": [
      "正常成为cmat.txt文件\n"
     ]
    }
   ],
   "source": [
    "if __name__ == \"__main__\":\n",
    "    netlist_file = \"netlist.2\"\n",
    "    output_file = \"cmat.csv\"\n",
    "    element_names, connectivity_matrix = generate_connectivity_matrix(netlist_file)\n",
    "    write_connectivity_matrix_to_file(element_names, connectivity_matrix, output_file)\n",
    "    \n",
    "    print(\"正常成为cmat.csv文件\")"
   ]
  }
 ],
 "metadata": {
  "kernelspec": {
   "display_name": "My_env",
   "language": "python",
   "name": "python3"
  },
  "language_info": {
   "codemirror_mode": {
    "name": "ipython",
    "version": 3
   },
   "file_extension": ".py",
   "mimetype": "text/x-python",
   "name": "python",
   "nbconvert_exporter": "python",
   "pygments_lexer": "ipython3",
   "version": "3.10.10"
  },
  "orig_nbformat": 4
 },
 "nbformat": 4,
 "nbformat_minor": 2
}

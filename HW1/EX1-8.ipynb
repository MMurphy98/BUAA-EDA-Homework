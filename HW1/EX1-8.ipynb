{
 "cells": [
  {
   "cell_type": "code",
   "execution_count": 8,
   "metadata": {},
   "outputs": [],
   "source": [
    "# 从 \"netlist.2\"中读取文件，并转化为matrix\n",
    "def generate_connectivity_matrix(netlist_file):\n",
    "    netlist = []\n",
    "    \n",
    "    # 打开文件以 ','分割，获得所有的节点，并删除两侧空格和括号\n",
    "    with open(netlist_file, 'r') as file:\n",
    "        for line in file:\n",
    "            line = line.strip()\n",
    "            line = line.strip(\")\")\n",
    "            line = line.strip(\"(\")\n",
    "            if line:\n",
    "                elements = line.split(',')\n",
    "                netlist.append((elements[0].strip(), elements[1].strip()))\n",
    "    \n",
    "    # Create a set of unique element names\n",
    "    element_names = set()\n",
    "    for connection in netlist:\n",
    "        element_names.add(connection[0])\n",
    "        element_names.add(connection[1])\n",
    "    \n",
    "    element_names = sorted(list(element_names))\n",
    "    \n",
    "    # Create a mapping from element names to integers\n",
    "    element_to_int = {element: idx for idx, element in enumerate(element_names)}\n",
    "    \n",
    "    # Initialize the connectivity matrix with zeros\n",
    "    matrix_size = len(element_names)\n",
    "    connectivity_matrix = [[0 for _ in range(matrix_size)] for _ in range(matrix_size)]\n",
    "    \n",
    "    # Fill in the connectivity matrix based on the netlist\n",
    "    for connection in netlist:\n",
    "        i = element_to_int[connection[0]]\n",
    "        j = element_to_int[connection[1]]\n",
    "        connectivity_matrix[i][j] += 1\n",
    "        connectivity_matrix[j][i] += 1\n",
    "    \n",
    "    return element_names, connectivity_matrix"
   ]
  },
  {
   "cell_type": "code",
   "execution_count": 6,
   "metadata": {},
   "outputs": [],
   "source": [
    "# 将 matrix 写入cmat文件\n",
    "def write_connectivity_matrix_to_file(element_names, connectivity_matrix, output_file):\n",
    "    with open(output_file, 'w') as file:\n",
    "        # 第一行为所有节点名\n",
    "        file.write(','.join(element_names) + '\\n')\n",
    "        for row in connectivity_matrix:\n",
    "            file.write(','.join(map(str, row)) + '\\n')"
   ]
  },
  {
   "cell_type": "code",
   "execution_count": 9,
   "metadata": {},
   "outputs": [
    {
     "name": "stdout",
     "output_type": "stream",
     "text": [
      "Connectivity matrix has been written to 'cmat.txt'.\n"
     ]
    }
   ],
   "source": [
    "if __name__ == \"__main__\":\n",
    "    netlist_file = \"netlist.2\"\n",
    "    output_file = \"cmat.txt\"\n",
    "    \n",
    "    element_names, connectivity_matrix = generate_connectivity_matrix(netlist_file)\n",
    "    write_connectivity_matrix_to_file(element_names, connectivity_matrix, output_file)\n",
    "    \n",
    "    print(\"Connectivity matrix has been written to 'cmat.txt'.\")"
   ]
  },
  {
   "cell_type": "code",
   "execution_count": null,
   "metadata": {},
   "outputs": [],
   "source": []
  }
 ],
 "metadata": {
  "kernelspec": {
   "display_name": "My_env",
   "language": "python",
   "name": "python3"
  },
  "language_info": {
   "codemirror_mode": {
    "name": "ipython",
    "version": 3
   },
   "file_extension": ".py",
   "mimetype": "text/x-python",
   "name": "python",
   "nbconvert_exporter": "python",
   "pygments_lexer": "ipython3",
   "version": "3.10.10"
  },
  "orig_nbformat": 4
 },
 "nbformat": 4,
 "nbformat_minor": 2
}

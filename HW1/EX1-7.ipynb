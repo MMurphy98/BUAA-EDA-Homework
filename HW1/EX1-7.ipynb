{
 "cells": [
  {
   "cell_type": "markdown",
   "metadata": {},
   "source": [
    "该编程题目要求cmat为对角矩阵，且对角线上的元素为0。编程由python语言完成，需要Jupyter Notebook 和 numpy，代码如下："
   ]
  },
  {
   "cell_type": "code",
   "execution_count": 1,
   "metadata": {},
   "outputs": [],
   "source": [
    "# 定义检测矩阵连接性函数\n",
    "def check_connectivity_matrix(matrix):\n",
    "    n = len(matrix)\n",
    "    errors_found = False\n",
    "\n",
    "    for i in range(n):\n",
    "        for j in range(n):\n",
    "            if matrix[i][j] != matrix[j][i]:\n",
    "                print(f\"错误的元素在 {i + 1} 和 {j + 1} 之间；\")\n",
    "                errors_found = True\n",
    "            if i == j and matrix[i][j] != 0:\n",
    "                print(f\"元素 {i + 1} 自身错误；\")\n",
    "                errors_found = True\n",
    "\n",
    "    if not errors_found:\n",
    "        print(\"矩阵的连接性正确！\")\n"
   ]
  },
  {
   "cell_type": "code",
   "execution_count": 2,
   "metadata": {},
   "outputs": [],
   "source": [
    "# 生成对角阵cmat并验证\n",
    "\n",
    "import numpy as np\n",
    "\n",
    "# 定义矩阵的大小\n",
    "matrix_size = 100\n",
    "\n",
    "# 生成100以内的随机整数矩阵\n",
    "cmat = np.random.randint(1, 100, size=(matrix_size, matrix_size))\n",
    "\n",
    "# 通过与转置求和得到对称阵\n",
    "cmat = (cmat + cmat.T) // 2\n",
    "\n",
    "# 将对角线元素设置为0\n",
    "np.fill_diagonal(cmat, 0)\n",
    "\n"
   ]
  },
  {
   "cell_type": "code",
   "execution_count": 3,
   "metadata": {},
   "outputs": [
    {
     "name": "stdout",
     "output_type": "stream",
     "text": [
      "矩阵的连接性正确！\n"
     ]
    }
   ],
   "source": [
    "check_connectivity_matrix(cmat)"
   ]
  },
  {
   "cell_type": "code",
   "execution_count": 4,
   "metadata": {},
   "outputs": [
    {
     "name": "stdout",
     "output_type": "stream",
     "text": [
      "修改cmat[1,10] = 9\n",
      "修改cmat[93,7] = 89\n",
      "错误的元素在 1 和 10 之间；\n",
      "错误的元素在 7 和 93 之间；\n",
      "错误的元素在 10 和 1 之间；\n",
      "错误的元素在 93 和 7 之间；\n"
     ]
    }
   ],
   "source": [
    "cmat_error = cmat\n",
    "# 随机修改两个元素之间的距离，对应的check_connectivity_matrix会发现4个错误\n",
    "for i in range(2):\n",
    "    index_i = np.random.randint(0,matrix_size-1)\n",
    "    index_j = np.random.randint(0,matrix_size-1)\n",
    "    random_value = np.random.randint(1, 100)\n",
    "    print(f\"修改cmat[{index_i+1},{index_j+1}] = {random_value}\")\n",
    "    cmat_error[index_i][index_j] = random_value\n",
    "\n",
    "check_connectivity_matrix(cmat_error)"
   ]
  }
 ],
 "metadata": {
  "kernelspec": {
   "display_name": "My_env",
   "language": "python",
   "name": "python3"
  },
  "language_info": {
   "codemirror_mode": {
    "name": "ipython",
    "version": 3
   },
   "file_extension": ".py",
   "mimetype": "text/x-python",
   "name": "python",
   "nbconvert_exporter": "python",
   "pygments_lexer": "ipython3",
   "version": "3.10.10"
  },
  "orig_nbformat": 4
 },
 "nbformat": 4,
 "nbformat_minor": 2
}
